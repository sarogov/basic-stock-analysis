{
  "nbformat": 4,
  "nbformat_minor": 0,
  "metadata": {
    "colab": {
      "name": "RSIStrategy.ipynb",
      "provenance": []
    },
    "kernelspec": {
      "name": "python3",
      "display_name": "Python 3"
    },
    "language_info": {
      "name": "python"
    }
  },
  "cells": [
    {
      "cell_type": "markdown",
      "metadata": {
        "id": "jYfoX1jkjRxZ"
      },
      "source": [
        "# Backtesting RSI-strategy learned from Rayner Teo\n",
        "Rayner Teo presents [in his Youtube -video](https://www.youtube.com/watch?v=W8ENIXvcGlQ&list=PLT6_Bt_TKitKDFdvmvnuerv8T6zG5qW3h&index=19) trading strategy that has a very high winning rate. He says that he have learned the strategy from Larry Connors.\n",
        "\n",
        "Strategy is this:\n",
        "\n",
        "**Enter** the next day open when\n",
        "*   the close price is above 200SMA and\n",
        "*   10-period RSI below 30\n",
        "\n",
        "**Exit** the next say open when\n",
        "\n",
        "*   the 10-period RSI is above 40 or\n",
        "*   10 traiding days have passed\n",
        "\n",
        "\n",
        "I am going to test that strategy for SP500.\n"
      ]
    },
    {
      "cell_type": "markdown",
      "metadata": {
        "id": "wGhZoOvOkunr"
      },
      "source": [
        "## Setting up environment and getting data"
      ]
    },
    {
      "cell_type": "code",
      "metadata": {
        "colab": {
          "base_uri": "https://localhost:8080/"
        },
        "id": "SA2jdV9qjqKY",
        "outputId": "0ed479ed-565c-4f77-e776-a31d2b63227f"
      },
      "source": [
        "!pip install yfinance"
      ],
      "execution_count": 3,
      "outputs": [
        {
          "output_type": "stream",
          "text": [
            "Collecting yfinance\n",
            "  Downloading https://files.pythonhosted.org/packages/a7/ee/315752b9ef281ba83c62aa7ec2e2074f85223da6e7e74efb4d3e11c0f510/yfinance-0.1.59.tar.gz\n",
            "Requirement already satisfied: pandas>=0.24 in /usr/local/lib/python3.7/dist-packages (from yfinance) (1.1.5)\n",
            "Requirement already satisfied: numpy>=1.15 in /usr/local/lib/python3.7/dist-packages (from yfinance) (1.19.5)\n",
            "Requirement already satisfied: requests>=2.20 in /usr/local/lib/python3.7/dist-packages (from yfinance) (2.23.0)\n",
            "Requirement already satisfied: multitasking>=0.0.7 in /usr/local/lib/python3.7/dist-packages (from yfinance) (0.0.9)\n",
            "Collecting lxml>=4.5.1\n",
            "\u001b[?25l  Downloading https://files.pythonhosted.org/packages/30/c0/d0526314971fc661b083ab135747dc68446a3022686da8c16d25fcf6ef07/lxml-4.6.3-cp37-cp37m-manylinux2014_x86_64.whl (6.3MB)\n",
            "\u001b[K     |████████████████████████████████| 6.3MB 4.3MB/s \n",
            "\u001b[?25hRequirement already satisfied: pytz>=2017.2 in /usr/local/lib/python3.7/dist-packages (from pandas>=0.24->yfinance) (2018.9)\n",
            "Requirement already satisfied: python-dateutil>=2.7.3 in /usr/local/lib/python3.7/dist-packages (from pandas>=0.24->yfinance) (2.8.1)\n",
            "Requirement already satisfied: urllib3!=1.25.0,!=1.25.1,<1.26,>=1.21.1 in /usr/local/lib/python3.7/dist-packages (from requests>=2.20->yfinance) (1.24.3)\n",
            "Requirement already satisfied: certifi>=2017.4.17 in /usr/local/lib/python3.7/dist-packages (from requests>=2.20->yfinance) (2020.12.5)\n",
            "Requirement already satisfied: idna<3,>=2.5 in /usr/local/lib/python3.7/dist-packages (from requests>=2.20->yfinance) (2.10)\n",
            "Requirement already satisfied: chardet<4,>=3.0.2 in /usr/local/lib/python3.7/dist-packages (from requests>=2.20->yfinance) (3.0.4)\n",
            "Requirement already satisfied: six>=1.5 in /usr/local/lib/python3.7/dist-packages (from python-dateutil>=2.7.3->pandas>=0.24->yfinance) (1.15.0)\n",
            "Building wheels for collected packages: yfinance\n",
            "  Building wheel for yfinance (setup.py) ... \u001b[?25l\u001b[?25hdone\n",
            "  Created wheel for yfinance: filename=yfinance-0.1.59-py2.py3-none-any.whl size=23442 sha256=9467b3a4726d56eb983551614183bafb8c5d884cfd3768b75510802008e9a090\n",
            "  Stored in directory: /root/.cache/pip/wheels/f8/2a/0f/4b5a86e1d52e451757eb6bc17fd899629f0925c777741b6d04\n",
            "Successfully built yfinance\n",
            "Installing collected packages: lxml, yfinance\n",
            "  Found existing installation: lxml 4.2.6\n",
            "    Uninstalling lxml-4.2.6:\n",
            "      Successfully uninstalled lxml-4.2.6\n",
            "Successfully installed lxml-4.6.3 yfinance-0.1.59\n"
          ],
          "name": "stdout"
        }
      ]
    },
    {
      "cell_type": "code",
      "metadata": {
        "id": "fQoMxEsGiqhj"
      },
      "source": [
        "import yfinance as yf\n",
        "import pandas as pd"
      ],
      "execution_count": 1,
      "outputs": []
    },
    {
      "cell_type": "code",
      "metadata": {
        "colab": {
          "base_uri": "https://localhost:8080/"
        },
        "id": "YKFFnTEjjk1k",
        "outputId": "7ca2f039-3b15-473c-ed87-82120223d53e"
      },
      "source": [
        "data = yf.download('^GSPC', start='1996-01-01', end='2021-05-01')"
      ],
      "execution_count": 2,
      "outputs": [
        {
          "output_type": "stream",
          "text": [
            "\r[*********************100%***********************]  1 of 1 completed\n"
          ],
          "name": "stdout"
        }
      ]
    },
    {
      "cell_type": "code",
      "metadata": {
        "colab": {
          "base_uri": "https://localhost:8080/",
          "height": 431
        },
        "id": "RNWMT7K0lMLe",
        "outputId": "9d4e700d-b244-4b16-afac-95f1b78c5a8d"
      },
      "source": [
        "data"
      ],
      "execution_count": 3,
      "outputs": [
        {
          "output_type": "execute_result",
          "data": {
            "text/html": [
              "<div>\n",
              "<style scoped>\n",
              "    .dataframe tbody tr th:only-of-type {\n",
              "        vertical-align: middle;\n",
              "    }\n",
              "\n",
              "    .dataframe tbody tr th {\n",
              "        vertical-align: top;\n",
              "    }\n",
              "\n",
              "    .dataframe thead th {\n",
              "        text-align: right;\n",
              "    }\n",
              "</style>\n",
              "<table border=\"1\" class=\"dataframe\">\n",
              "  <thead>\n",
              "    <tr style=\"text-align: right;\">\n",
              "      <th></th>\n",
              "      <th>Open</th>\n",
              "      <th>High</th>\n",
              "      <th>Low</th>\n",
              "      <th>Close</th>\n",
              "      <th>Adj Close</th>\n",
              "      <th>Volume</th>\n",
              "    </tr>\n",
              "    <tr>\n",
              "      <th>Date</th>\n",
              "      <th></th>\n",
              "      <th></th>\n",
              "      <th></th>\n",
              "      <th></th>\n",
              "      <th></th>\n",
              "      <th></th>\n",
              "    </tr>\n",
              "  </thead>\n",
              "  <tbody>\n",
              "    <tr>\n",
              "      <th>1996-01-02</th>\n",
              "      <td>615.929993</td>\n",
              "      <td>620.739990</td>\n",
              "      <td>613.169983</td>\n",
              "      <td>620.729980</td>\n",
              "      <td>620.729980</td>\n",
              "      <td>364180000</td>\n",
              "    </tr>\n",
              "    <tr>\n",
              "      <th>1996-01-03</th>\n",
              "      <td>620.729980</td>\n",
              "      <td>623.250000</td>\n",
              "      <td>619.559998</td>\n",
              "      <td>621.320007</td>\n",
              "      <td>621.320007</td>\n",
              "      <td>468950000</td>\n",
              "    </tr>\n",
              "    <tr>\n",
              "      <th>1996-01-04</th>\n",
              "      <td>621.320007</td>\n",
              "      <td>624.489990</td>\n",
              "      <td>613.960022</td>\n",
              "      <td>617.700012</td>\n",
              "      <td>617.700012</td>\n",
              "      <td>512580000</td>\n",
              "    </tr>\n",
              "    <tr>\n",
              "      <th>1996-01-05</th>\n",
              "      <td>617.700012</td>\n",
              "      <td>617.700012</td>\n",
              "      <td>612.020020</td>\n",
              "      <td>616.710022</td>\n",
              "      <td>616.710022</td>\n",
              "      <td>437110000</td>\n",
              "    </tr>\n",
              "    <tr>\n",
              "      <th>1996-01-08</th>\n",
              "      <td>616.710022</td>\n",
              "      <td>618.460022</td>\n",
              "      <td>616.489990</td>\n",
              "      <td>618.460022</td>\n",
              "      <td>618.460022</td>\n",
              "      <td>130360000</td>\n",
              "    </tr>\n",
              "    <tr>\n",
              "      <th>...</th>\n",
              "      <td>...</td>\n",
              "      <td>...</td>\n",
              "      <td>...</td>\n",
              "      <td>...</td>\n",
              "      <td>...</td>\n",
              "      <td>...</td>\n",
              "    </tr>\n",
              "    <tr>\n",
              "      <th>2021-04-26</th>\n",
              "      <td>4185.029785</td>\n",
              "      <td>4194.189941</td>\n",
              "      <td>4182.359863</td>\n",
              "      <td>4187.620117</td>\n",
              "      <td>4187.620117</td>\n",
              "      <td>3738920000</td>\n",
              "    </tr>\n",
              "    <tr>\n",
              "      <th>2021-04-27</th>\n",
              "      <td>4188.250000</td>\n",
              "      <td>4193.350098</td>\n",
              "      <td>4176.220215</td>\n",
              "      <td>4186.720215</td>\n",
              "      <td>4186.720215</td>\n",
              "      <td>3703240000</td>\n",
              "    </tr>\n",
              "    <tr>\n",
              "      <th>2021-04-28</th>\n",
              "      <td>4185.140137</td>\n",
              "      <td>4201.529785</td>\n",
              "      <td>4181.779785</td>\n",
              "      <td>4183.180176</td>\n",
              "      <td>4183.180176</td>\n",
              "      <td>3772390000</td>\n",
              "    </tr>\n",
              "    <tr>\n",
              "      <th>2021-04-29</th>\n",
              "      <td>4206.140137</td>\n",
              "      <td>4218.779785</td>\n",
              "      <td>4176.810059</td>\n",
              "      <td>4211.470215</td>\n",
              "      <td>4211.470215</td>\n",
              "      <td>4288940000</td>\n",
              "    </tr>\n",
              "    <tr>\n",
              "      <th>2021-04-30</th>\n",
              "      <td>4198.100098</td>\n",
              "      <td>4198.100098</td>\n",
              "      <td>4174.850098</td>\n",
              "      <td>4181.169922</td>\n",
              "      <td>4181.169922</td>\n",
              "      <td>4273680000</td>\n",
              "    </tr>\n",
              "  </tbody>\n",
              "</table>\n",
              "<p>6377 rows × 6 columns</p>\n",
              "</div>"
            ],
            "text/plain": [
              "                   Open         High  ...    Adj Close      Volume\n",
              "Date                                  ...                         \n",
              "1996-01-02   615.929993   620.739990  ...   620.729980   364180000\n",
              "1996-01-03   620.729980   623.250000  ...   621.320007   468950000\n",
              "1996-01-04   621.320007   624.489990  ...   617.700012   512580000\n",
              "1996-01-05   617.700012   617.700012  ...   616.710022   437110000\n",
              "1996-01-08   616.710022   618.460022  ...   618.460022   130360000\n",
              "...                 ...          ...  ...          ...         ...\n",
              "2021-04-26  4185.029785  4194.189941  ...  4187.620117  3738920000\n",
              "2021-04-27  4188.250000  4193.350098  ...  4186.720215  3703240000\n",
              "2021-04-28  4185.140137  4201.529785  ...  4183.180176  3772390000\n",
              "2021-04-29  4206.140137  4218.779785  ...  4211.470215  4288940000\n",
              "2021-04-30  4198.100098  4198.100098  ...  4181.169922  4273680000\n",
              "\n",
              "[6377 rows x 6 columns]"
            ]
          },
          "metadata": {
            "tags": []
          },
          "execution_count": 3
        }
      ]
    },
    {
      "cell_type": "markdown",
      "metadata": {
        "id": "bQwced7_lO-C"
      },
      "source": [
        "## Calculating 200MA"
      ]
    },
    {
      "cell_type": "code",
      "metadata": {
        "id": "z-WXUZ4slS3i"
      },
      "source": [
        "data['200MA'] = data['Adj Close'].rolling(window=200).mean() "
      ],
      "execution_count": 4,
      "outputs": []
    },
    {
      "cell_type": "code",
      "metadata": {
        "colab": {
          "base_uri": "https://localhost:8080/",
          "height": 431
        },
        "id": "i-UEOeR0lexT",
        "outputId": "8650b742-11b2-49b1-edc9-fd6c2c5c0427"
      },
      "source": [
        "data"
      ],
      "execution_count": 5,
      "outputs": [
        {
          "output_type": "execute_result",
          "data": {
            "text/html": [
              "<div>\n",
              "<style scoped>\n",
              "    .dataframe tbody tr th:only-of-type {\n",
              "        vertical-align: middle;\n",
              "    }\n",
              "\n",
              "    .dataframe tbody tr th {\n",
              "        vertical-align: top;\n",
              "    }\n",
              "\n",
              "    .dataframe thead th {\n",
              "        text-align: right;\n",
              "    }\n",
              "</style>\n",
              "<table border=\"1\" class=\"dataframe\">\n",
              "  <thead>\n",
              "    <tr style=\"text-align: right;\">\n",
              "      <th></th>\n",
              "      <th>Open</th>\n",
              "      <th>High</th>\n",
              "      <th>Low</th>\n",
              "      <th>Close</th>\n",
              "      <th>Adj Close</th>\n",
              "      <th>Volume</th>\n",
              "      <th>200MA</th>\n",
              "    </tr>\n",
              "    <tr>\n",
              "      <th>Date</th>\n",
              "      <th></th>\n",
              "      <th></th>\n",
              "      <th></th>\n",
              "      <th></th>\n",
              "      <th></th>\n",
              "      <th></th>\n",
              "      <th></th>\n",
              "    </tr>\n",
              "  </thead>\n",
              "  <tbody>\n",
              "    <tr>\n",
              "      <th>1996-01-02</th>\n",
              "      <td>615.929993</td>\n",
              "      <td>620.739990</td>\n",
              "      <td>613.169983</td>\n",
              "      <td>620.729980</td>\n",
              "      <td>620.729980</td>\n",
              "      <td>364180000</td>\n",
              "      <td>NaN</td>\n",
              "    </tr>\n",
              "    <tr>\n",
              "      <th>1996-01-03</th>\n",
              "      <td>620.729980</td>\n",
              "      <td>623.250000</td>\n",
              "      <td>619.559998</td>\n",
              "      <td>621.320007</td>\n",
              "      <td>621.320007</td>\n",
              "      <td>468950000</td>\n",
              "      <td>NaN</td>\n",
              "    </tr>\n",
              "    <tr>\n",
              "      <th>1996-01-04</th>\n",
              "      <td>621.320007</td>\n",
              "      <td>624.489990</td>\n",
              "      <td>613.960022</td>\n",
              "      <td>617.700012</td>\n",
              "      <td>617.700012</td>\n",
              "      <td>512580000</td>\n",
              "      <td>NaN</td>\n",
              "    </tr>\n",
              "    <tr>\n",
              "      <th>1996-01-05</th>\n",
              "      <td>617.700012</td>\n",
              "      <td>617.700012</td>\n",
              "      <td>612.020020</td>\n",
              "      <td>616.710022</td>\n",
              "      <td>616.710022</td>\n",
              "      <td>437110000</td>\n",
              "      <td>NaN</td>\n",
              "    </tr>\n",
              "    <tr>\n",
              "      <th>1996-01-08</th>\n",
              "      <td>616.710022</td>\n",
              "      <td>618.460022</td>\n",
              "      <td>616.489990</td>\n",
              "      <td>618.460022</td>\n",
              "      <td>618.460022</td>\n",
              "      <td>130360000</td>\n",
              "      <td>NaN</td>\n",
              "    </tr>\n",
              "    <tr>\n",
              "      <th>...</th>\n",
              "      <td>...</td>\n",
              "      <td>...</td>\n",
              "      <td>...</td>\n",
              "      <td>...</td>\n",
              "      <td>...</td>\n",
              "      <td>...</td>\n",
              "      <td>...</td>\n",
              "    </tr>\n",
              "    <tr>\n",
              "      <th>2021-04-26</th>\n",
              "      <td>4185.029785</td>\n",
              "      <td>4194.189941</td>\n",
              "      <td>4182.359863</td>\n",
              "      <td>4187.620117</td>\n",
              "      <td>4187.620117</td>\n",
              "      <td>3738920000</td>\n",
              "      <td>3635.374154</td>\n",
              "    </tr>\n",
              "    <tr>\n",
              "      <th>2021-04-27</th>\n",
              "      <td>4188.250000</td>\n",
              "      <td>4193.350098</td>\n",
              "      <td>4176.220215</td>\n",
              "      <td>4186.720215</td>\n",
              "      <td>4186.720215</td>\n",
              "      <td>3703240000</td>\n",
              "      <td>3640.382555</td>\n",
              "    </tr>\n",
              "    <tr>\n",
              "      <th>2021-04-28</th>\n",
              "      <td>4185.140137</td>\n",
              "      <td>4201.529785</td>\n",
              "      <td>4181.779785</td>\n",
              "      <td>4183.180176</td>\n",
              "      <td>4183.180176</td>\n",
              "      <td>3772390000</td>\n",
              "      <td>3645.522356</td>\n",
              "    </tr>\n",
              "    <tr>\n",
              "      <th>2021-04-29</th>\n",
              "      <td>4206.140137</td>\n",
              "      <td>4218.779785</td>\n",
              "      <td>4176.810059</td>\n",
              "      <td>4211.470215</td>\n",
              "      <td>4211.470215</td>\n",
              "      <td>4288940000</td>\n",
              "      <td>3650.592107</td>\n",
              "    </tr>\n",
              "    <tr>\n",
              "      <th>2021-04-30</th>\n",
              "      <td>4198.100098</td>\n",
              "      <td>4198.100098</td>\n",
              "      <td>4174.850098</td>\n",
              "      <td>4181.169922</td>\n",
              "      <td>4181.169922</td>\n",
              "      <td>4273680000</td>\n",
              "      <td>3655.365156</td>\n",
              "    </tr>\n",
              "  </tbody>\n",
              "</table>\n",
              "<p>6377 rows × 7 columns</p>\n",
              "</div>"
            ],
            "text/plain": [
              "                   Open         High  ...      Volume        200MA\n",
              "Date                                  ...                         \n",
              "1996-01-02   615.929993   620.739990  ...   364180000          NaN\n",
              "1996-01-03   620.729980   623.250000  ...   468950000          NaN\n",
              "1996-01-04   621.320007   624.489990  ...   512580000          NaN\n",
              "1996-01-05   617.700012   617.700012  ...   437110000          NaN\n",
              "1996-01-08   616.710022   618.460022  ...   130360000          NaN\n",
              "...                 ...          ...  ...         ...          ...\n",
              "2021-04-26  4185.029785  4194.189941  ...  3738920000  3635.374154\n",
              "2021-04-27  4188.250000  4193.350098  ...  3703240000  3640.382555\n",
              "2021-04-28  4185.140137  4201.529785  ...  3772390000  3645.522356\n",
              "2021-04-29  4206.140137  4218.779785  ...  4288940000  3650.592107\n",
              "2021-04-30  4198.100098  4198.100098  ...  4273680000  3655.365156\n",
              "\n",
              "[6377 rows x 7 columns]"
            ]
          },
          "metadata": {
            "tags": []
          },
          "execution_count": 5
        }
      ]
    },
    {
      "cell_type": "code",
      "metadata": {
        "colab": {
          "base_uri": "https://localhost:8080/",
          "height": 282
        },
        "id": "QATfKPq0mXjg",
        "outputId": "762fa46c-9341-4cf3-e82e-e5ab64f226d3"
      },
      "source": [
        "import matplotlib.pyplot as plt\n",
        "\n",
        "plt.plot(data['Adj Close'])\n",
        "plt.plot(data['200MA'])"
      ],
      "execution_count": 6,
      "outputs": [
        {
          "output_type": "execute_result",
          "data": {
            "text/plain": [
              "[<matplotlib.lines.Line2D at 0x7f42b8d51410>]"
            ]
          },
          "metadata": {
            "tags": []
          },
          "execution_count": 6
        },
        {
          "output_type": "display_data",
          "data": {
            "image/png": "[encoded data removed]",
            "text/plain": [
              "<Figure size 432x288 with 1 Axes>"
            ]
          },
          "metadata": {
            "tags": [],
            "needs_background": "light"
          }
        }
      ]
    },
    {
      "cell_type": "markdown",
      "metadata": {
        "id": "LKMujo9Z-yeG"
      },
      "source": [
        "## Calculations for RSI\n",
        "Calculation is a little bit tricky. Here is used instructions found from [https://www.macroption.com/rsi-calculation/](https://www.macroption.com/rsi-calculation/)."
      ]
    },
    {
      "cell_type": "code",
      "metadata": {
        "id": "4905lzVlmma6"
      },
      "source": [
        "# daily returns\n",
        "data['Price change'] = data['Adj Close'].pct_change()"
      ],
      "execution_count": 7,
      "outputs": []
    },
    {
      "cell_type": "code",
      "metadata": {
        "id": "DLK3SzBitI1Z"
      },
      "source": [
        "data['Upmove'] = data['Price change'].apply(lambda x: x if x > 0 else 0)\n",
        "data['Downmove'] = data['Price change'].apply(lambda x: abs(x) if x < 0 else 0)"
      ],
      "execution_count": 8,
      "outputs": []
    },
    {
      "cell_type": "code",
      "metadata": {
        "id": "qMyLCuoZvxUQ"
      },
      "source": [
        "# Averiging the Advances and Declines. Here we use Wilder’s Smoothing Method with N=10\n",
        "data['Avg Up']=data['Upmove'].ewm(alpha=0.1).mean()\n",
        "data['Avg Down']=data['Downmove'].ewm(alpha=0.1).mean()"
      ],
      "execution_count": 9,
      "outputs": []
    },
    {
      "cell_type": "code",
      "metadata": {
        "colab": {
          "base_uri": "https://localhost:8080/",
          "height": 431
        },
        "id": "CL788-N-wOfG",
        "outputId": "d83cae81-def2-48a6-c25b-49f9d3617aeb"
      },
      "source": [
        "data"
      ],
      "execution_count": 10,
      "outputs": [
        {
          "output_type": "execute_result",
          "data": {
            "text/html": [
              "<div>\n",
              "<style scoped>\n",
              "    .dataframe tbody tr th:only-of-type {\n",
              "        vertical-align: middle;\n",
              "    }\n",
              "\n",
              "    .dataframe tbody tr th {\n",
              "        vertical-align: top;\n",
              "    }\n",
              "\n",
              "    .dataframe thead th {\n",
              "        text-align: right;\n",
              "    }\n",
              "</style>\n",
              "<table border=\"1\" class=\"dataframe\">\n",
              "  <thead>\n",
              "    <tr style=\"text-align: right;\">\n",
              "      <th></th>\n",
              "      <th>Open</th>\n",
              "      <th>High</th>\n",
              "      <th>Low</th>\n",
              "      <th>Close</th>\n",
              "      <th>Adj Close</th>\n",
              "      <th>Volume</th>\n",
              "      <th>200MA</th>\n",
              "      <th>Price change</th>\n",
              "      <th>Upmove</th>\n",
              "      <th>Downmove</th>\n",
              "      <th>Avg Up</th>\n",
              "      <th>Avg Down</th>\n",
              "    </tr>\n",
              "    <tr>\n",
              "      <th>Date</th>\n",
              "      <th></th>\n",
              "      <th></th>\n",
              "      <th></th>\n",
              "      <th></th>\n",
              "      <th></th>\n",
              "      <th></th>\n",
              "      <th></th>\n",
              "      <th></th>\n",
              "      <th></th>\n",
              "      <th></th>\n",
              "      <th></th>\n",
              "      <th></th>\n",
              "    </tr>\n",
              "  </thead>\n",
              "  <tbody>\n",
              "    <tr>\n",
              "      <th>1996-01-02</th>\n",
              "      <td>615.929993</td>\n",
              "      <td>620.739990</td>\n",
              "      <td>613.169983</td>\n",
              "      <td>620.729980</td>\n",
              "      <td>620.729980</td>\n",
              "      <td>364180000</td>\n",
              "      <td>NaN</td>\n",
              "      <td>NaN</td>\n",
              "      <td>0.000000</td>\n",
              "      <td>0.000000</td>\n",
              "      <td>0.000000</td>\n",
              "      <td>0.000000</td>\n",
              "    </tr>\n",
              "    <tr>\n",
              "      <th>1996-01-03</th>\n",
              "      <td>620.729980</td>\n",
              "      <td>623.250000</td>\n",
              "      <td>619.559998</td>\n",
              "      <td>621.320007</td>\n",
              "      <td>621.320007</td>\n",
              "      <td>468950000</td>\n",
              "      <td>NaN</td>\n",
              "      <td>0.000951</td>\n",
              "      <td>0.000951</td>\n",
              "      <td>0.000000</td>\n",
              "      <td>0.000500</td>\n",
              "      <td>0.000000</td>\n",
              "    </tr>\n",
              "    <tr>\n",
              "      <th>1996-01-04</th>\n",
              "      <td>621.320007</td>\n",
              "      <td>624.489990</td>\n",
              "      <td>613.960022</td>\n",
              "      <td>617.700012</td>\n",
              "      <td>617.700012</td>\n",
              "      <td>512580000</td>\n",
              "      <td>NaN</td>\n",
              "      <td>-0.005826</td>\n",
              "      <td>0.000000</td>\n",
              "      <td>0.005826</td>\n",
              "      <td>0.000316</td>\n",
              "      <td>0.002150</td>\n",
              "    </tr>\n",
              "    <tr>\n",
              "      <th>1996-01-05</th>\n",
              "      <td>617.700012</td>\n",
              "      <td>617.700012</td>\n",
              "      <td>612.020020</td>\n",
              "      <td>616.710022</td>\n",
              "      <td>616.710022</td>\n",
              "      <td>437110000</td>\n",
              "      <td>NaN</td>\n",
              "      <td>-0.001603</td>\n",
              "      <td>0.000000</td>\n",
              "      <td>0.001603</td>\n",
              "      <td>0.000224</td>\n",
              "      <td>0.001991</td>\n",
              "    </tr>\n",
              "    <tr>\n",
              "      <th>1996-01-08</th>\n",
              "      <td>616.710022</td>\n",
              "      <td>618.460022</td>\n",
              "      <td>616.489990</td>\n",
              "      <td>618.460022</td>\n",
              "      <td>618.460022</td>\n",
              "      <td>130360000</td>\n",
              "      <td>NaN</td>\n",
              "      <td>0.002838</td>\n",
              "      <td>0.002838</td>\n",
              "      <td>0.000000</td>\n",
              "      <td>0.000862</td>\n",
              "      <td>0.001505</td>\n",
              "    </tr>\n",
              "    <tr>\n",
              "      <th>...</th>\n",
              "      <td>...</td>\n",
              "      <td>...</td>\n",
              "      <td>...</td>\n",
              "      <td>...</td>\n",
              "      <td>...</td>\n",
              "      <td>...</td>\n",
              "      <td>...</td>\n",
              "      <td>...</td>\n",
              "      <td>...</td>\n",
              "      <td>...</td>\n",
              "      <td>...</td>\n",
              "      <td>...</td>\n",
              "    </tr>\n",
              "    <tr>\n",
              "      <th>2021-04-26</th>\n",
              "      <td>4185.029785</td>\n",
              "      <td>4194.189941</td>\n",
              "      <td>4182.359863</td>\n",
              "      <td>4187.620117</td>\n",
              "      <td>4187.620117</td>\n",
              "      <td>3738920000</td>\n",
              "      <td>3635.374154</td>\n",
              "      <td>0.001782</td>\n",
              "      <td>0.001782</td>\n",
              "      <td>0.000000</td>\n",
              "      <td>0.004265</td>\n",
              "      <td>0.002150</td>\n",
              "    </tr>\n",
              "    <tr>\n",
              "      <th>2021-04-27</th>\n",
              "      <td>4188.250000</td>\n",
              "      <td>4193.350098</td>\n",
              "      <td>4176.220215</td>\n",
              "      <td>4186.720215</td>\n",
              "      <td>4186.720215</td>\n",
              "      <td>3703240000</td>\n",
              "      <td>3640.382555</td>\n",
              "      <td>-0.000215</td>\n",
              "      <td>0.000000</td>\n",
              "      <td>0.000215</td>\n",
              "      <td>0.003839</td>\n",
              "      <td>0.001956</td>\n",
              "    </tr>\n",
              "    <tr>\n",
              "      <th>2021-04-28</th>\n",
              "      <td>4185.140137</td>\n",
              "      <td>4201.529785</td>\n",
              "      <td>4181.779785</td>\n",
              "      <td>4183.180176</td>\n",
              "      <td>4183.180176</td>\n",
              "      <td>3772390000</td>\n",
              "      <td>3645.522356</td>\n",
              "      <td>-0.000846</td>\n",
              "      <td>0.000000</td>\n",
              "      <td>0.000846</td>\n",
              "      <td>0.003455</td>\n",
              "      <td>0.001845</td>\n",
              "    </tr>\n",
              "    <tr>\n",
              "      <th>2021-04-29</th>\n",
              "      <td>4206.140137</td>\n",
              "      <td>4218.779785</td>\n",
              "      <td>4176.810059</td>\n",
              "      <td>4211.470215</td>\n",
              "      <td>4211.470215</td>\n",
              "      <td>4288940000</td>\n",
              "      <td>3650.592107</td>\n",
              "      <td>0.006763</td>\n",
              "      <td>0.006763</td>\n",
              "      <td>0.000000</td>\n",
              "      <td>0.003785</td>\n",
              "      <td>0.001661</td>\n",
              "    </tr>\n",
              "    <tr>\n",
              "      <th>2021-04-30</th>\n",
              "      <td>4198.100098</td>\n",
              "      <td>4198.100098</td>\n",
              "      <td>4174.850098</td>\n",
              "      <td>4181.169922</td>\n",
              "      <td>4181.169922</td>\n",
              "      <td>4273680000</td>\n",
              "      <td>3655.365156</td>\n",
              "      <td>-0.007195</td>\n",
              "      <td>0.000000</td>\n",
              "      <td>0.007195</td>\n",
              "      <td>0.003407</td>\n",
              "      <td>0.002214</td>\n",
              "    </tr>\n",
              "  </tbody>\n",
              "</table>\n",
              "<p>6377 rows × 12 columns</p>\n",
              "</div>"
            ],
            "text/plain": [
              "                   Open         High          Low  ...  Downmove    Avg Up  Avg Down\n",
              "Date                                               ...                              \n",
              "1996-01-02   615.929993   620.739990   613.169983  ...  0.000000  0.000000  0.000000\n",
              "1996-01-03   620.729980   623.250000   619.559998  ...  0.000000  0.000500  0.000000\n",
              "1996-01-04   621.320007   624.489990   613.960022  ...  0.005826  0.000316  0.002150\n",
              "1996-01-05   617.700012   617.700012   612.020020  ...  0.001603  0.000224  0.001991\n",
              "1996-01-08   616.710022   618.460022   616.489990  ...  0.000000  0.000862  0.001505\n",
              "...                 ...          ...          ...  ...       ...       ...       ...\n",
              "2021-04-26  4185.029785  4194.189941  4182.359863  ...  0.000000  0.004265  0.002150\n",
              "2021-04-27  4188.250000  4193.350098  4176.220215  ...  0.000215  0.003839  0.001956\n",
              "2021-04-28  4185.140137  4201.529785  4181.779785  ...  0.000846  0.003455  0.001845\n",
              "2021-04-29  4206.140137  4218.779785  4176.810059  ...  0.000000  0.003785  0.001661\n",
              "2021-04-30  4198.100098  4198.100098  4174.850098  ...  0.007195  0.003407  0.002214\n",
              "\n",
              "[6377 rows x 12 columns]"
            ]
          },
          "metadata": {
            "tags": []
          },
          "execution_count": 10
        }
      ]
    },
    {
      "cell_type": "code",
      "metadata": {
        "id": "wMiz-b-lwa9x"
      },
      "source": [
        "data['RSI10']=100 - 100 /(1+data['Avg Up']/data['Avg Down'])"
      ],
      "execution_count": 11,
      "outputs": []
    },
    {
      "cell_type": "code",
      "metadata": {
        "colab": {
          "base_uri": "https://localhost:8080/",
          "height": 431
        },
        "id": "qmHdug69wwRH",
        "outputId": "f61200ce-8aa6-462e-8def-867a39fc3a36"
      },
      "source": [
        "data"
      ],
      "execution_count": 12,
      "outputs": [
        {
          "output_type": "execute_result",
          "data": {
            "text/html": [
              "<div>\n",
              "<style scoped>\n",
              "    .dataframe tbody tr th:only-of-type {\n",
              "        vertical-align: middle;\n",
              "    }\n",
              "\n",
              "    .dataframe tbody tr th {\n",
              "        vertical-align: top;\n",
              "    }\n",
              "\n",
              "    .dataframe thead th {\n",
              "        text-align: right;\n",
              "    }\n",
              "</style>\n",
              "<table border=\"1\" class=\"dataframe\">\n",
              "  <thead>\n",
              "    <tr style=\"text-align: right;\">\n",
              "      <th></th>\n",
              "      <th>Open</th>\n",
              "      <th>High</th>\n",
              "      <th>Low</th>\n",
              "      <th>Close</th>\n",
              "      <th>Adj Close</th>\n",
              "      <th>Volume</th>\n",
              "      <th>200MA</th>\n",
              "      <th>Price change</th>\n",
              "      <th>Upmove</th>\n",
              "      <th>Downmove</th>\n",
              "      <th>Avg Up</th>\n",
              "      <th>Avg Down</th>\n",
              "      <th>RSI10</th>\n",
              "    </tr>\n",
              "    <tr>\n",
              "      <th>Date</th>\n",
              "      <th></th>\n",
              "      <th></th>\n",
              "      <th></th>\n",
              "      <th></th>\n",
              "      <th></th>\n",
              "      <th></th>\n",
              "      <th></th>\n",
              "      <th></th>\n",
              "      <th></th>\n",
              "      <th></th>\n",
              "      <th></th>\n",
              "      <th></th>\n",
              "      <th></th>\n",
              "    </tr>\n",
              "  </thead>\n",
              "  <tbody>\n",
              "    <tr>\n",
              "      <th>1996-01-02</th>\n",
              "      <td>615.929993</td>\n",
              "      <td>620.739990</td>\n",
              "      <td>613.169983</td>\n",
              "      <td>620.729980</td>\n",
              "      <td>620.729980</td>\n",
              "      <td>364180000</td>\n",
              "      <td>NaN</td>\n",
              "      <td>NaN</td>\n",
              "      <td>0.000000</td>\n",
              "      <td>0.000000</td>\n",
              "      <td>0.000000</td>\n",
              "      <td>0.000000</td>\n",
              "      <td>NaN</td>\n",
              "    </tr>\n",
              "    <tr>\n",
              "      <th>1996-01-03</th>\n",
              "      <td>620.729980</td>\n",
              "      <td>623.250000</td>\n",
              "      <td>619.559998</td>\n",
              "      <td>621.320007</td>\n",
              "      <td>621.320007</td>\n",
              "      <td>468950000</td>\n",
              "      <td>NaN</td>\n",
              "      <td>0.000951</td>\n",
              "      <td>0.000951</td>\n",
              "      <td>0.000000</td>\n",
              "      <td>0.000500</td>\n",
              "      <td>0.000000</td>\n",
              "      <td>100.000000</td>\n",
              "    </tr>\n",
              "    <tr>\n",
              "      <th>1996-01-04</th>\n",
              "      <td>621.320007</td>\n",
              "      <td>624.489990</td>\n",
              "      <td>613.960022</td>\n",
              "      <td>617.700012</td>\n",
              "      <td>617.700012</td>\n",
              "      <td>512580000</td>\n",
              "      <td>NaN</td>\n",
              "      <td>-0.005826</td>\n",
              "      <td>0.000000</td>\n",
              "      <td>0.005826</td>\n",
              "      <td>0.000316</td>\n",
              "      <td>0.002150</td>\n",
              "      <td>12.803224</td>\n",
              "    </tr>\n",
              "    <tr>\n",
              "      <th>1996-01-05</th>\n",
              "      <td>617.700012</td>\n",
              "      <td>617.700012</td>\n",
              "      <td>612.020020</td>\n",
              "      <td>616.710022</td>\n",
              "      <td>616.710022</td>\n",
              "      <td>437110000</td>\n",
              "      <td>NaN</td>\n",
              "      <td>-0.001603</td>\n",
              "      <td>0.000000</td>\n",
              "      <td>0.001603</td>\n",
              "      <td>0.000224</td>\n",
              "      <td>0.001991</td>\n",
              "      <td>10.109034</td>\n",
              "    </tr>\n",
              "    <tr>\n",
              "      <th>1996-01-08</th>\n",
              "      <td>616.710022</td>\n",
              "      <td>618.460022</td>\n",
              "      <td>616.489990</td>\n",
              "      <td>618.460022</td>\n",
              "      <td>618.460022</td>\n",
              "      <td>130360000</td>\n",
              "      <td>NaN</td>\n",
              "      <td>0.002838</td>\n",
              "      <td>0.002838</td>\n",
              "      <td>0.000000</td>\n",
              "      <td>0.000862</td>\n",
              "      <td>0.001505</td>\n",
              "      <td>36.426593</td>\n",
              "    </tr>\n",
              "    <tr>\n",
              "      <th>...</th>\n",
              "      <td>...</td>\n",
              "      <td>...</td>\n",
              "      <td>...</td>\n",
              "      <td>...</td>\n",
              "      <td>...</td>\n",
              "      <td>...</td>\n",
              "      <td>...</td>\n",
              "      <td>...</td>\n",
              "      <td>...</td>\n",
              "      <td>...</td>\n",
              "      <td>...</td>\n",
              "      <td>...</td>\n",
              "      <td>...</td>\n",
              "    </tr>\n",
              "    <tr>\n",
              "      <th>2021-04-26</th>\n",
              "      <td>4185.029785</td>\n",
              "      <td>4194.189941</td>\n",
              "      <td>4182.359863</td>\n",
              "      <td>4187.620117</td>\n",
              "      <td>4187.620117</td>\n",
              "      <td>3738920000</td>\n",
              "      <td>3635.374154</td>\n",
              "      <td>0.001782</td>\n",
              "      <td>0.001782</td>\n",
              "      <td>0.000000</td>\n",
              "      <td>0.004265</td>\n",
              "      <td>0.002150</td>\n",
              "      <td>66.489310</td>\n",
              "    </tr>\n",
              "    <tr>\n",
              "      <th>2021-04-27</th>\n",
              "      <td>4188.250000</td>\n",
              "      <td>4193.350098</td>\n",
              "      <td>4176.220215</td>\n",
              "      <td>4186.720215</td>\n",
              "      <td>4186.720215</td>\n",
              "      <td>3703240000</td>\n",
              "      <td>3640.382555</td>\n",
              "      <td>-0.000215</td>\n",
              "      <td>0.000000</td>\n",
              "      <td>0.000215</td>\n",
              "      <td>0.003839</td>\n",
              "      <td>0.001956</td>\n",
              "      <td>66.242731</td>\n",
              "    </tr>\n",
              "    <tr>\n",
              "      <th>2021-04-28</th>\n",
              "      <td>4185.140137</td>\n",
              "      <td>4201.529785</td>\n",
              "      <td>4181.779785</td>\n",
              "      <td>4183.180176</td>\n",
              "      <td>4183.180176</td>\n",
              "      <td>3772390000</td>\n",
              "      <td>3645.522356</td>\n",
              "      <td>-0.000846</td>\n",
              "      <td>0.000000</td>\n",
              "      <td>0.000846</td>\n",
              "      <td>0.003455</td>\n",
              "      <td>0.001845</td>\n",
              "      <td>65.185864</td>\n",
              "    </tr>\n",
              "    <tr>\n",
              "      <th>2021-04-29</th>\n",
              "      <td>4206.140137</td>\n",
              "      <td>4218.779785</td>\n",
              "      <td>4176.810059</td>\n",
              "      <td>4211.470215</td>\n",
              "      <td>4211.470215</td>\n",
              "      <td>4288940000</td>\n",
              "      <td>3650.592107</td>\n",
              "      <td>0.006763</td>\n",
              "      <td>0.006763</td>\n",
              "      <td>0.000000</td>\n",
              "      <td>0.003785</td>\n",
              "      <td>0.001661</td>\n",
              "      <td>69.509046</td>\n",
              "    </tr>\n",
              "    <tr>\n",
              "      <th>2021-04-30</th>\n",
              "      <td>4198.100098</td>\n",
              "      <td>4198.100098</td>\n",
              "      <td>4174.850098</td>\n",
              "      <td>4181.169922</td>\n",
              "      <td>4181.169922</td>\n",
              "      <td>4273680000</td>\n",
              "      <td>3655.365156</td>\n",
              "      <td>-0.007195</td>\n",
              "      <td>0.000000</td>\n",
              "      <td>0.007195</td>\n",
              "      <td>0.003407</td>\n",
              "      <td>0.002214</td>\n",
              "      <td>60.611923</td>\n",
              "    </tr>\n",
              "  </tbody>\n",
              "</table>\n",
              "<p>6377 rows × 13 columns</p>\n",
              "</div>"
            ],
            "text/plain": [
              "                   Open         High  ...  Avg Down       RSI10\n",
              "Date                                  ...                      \n",
              "1996-01-02   615.929993   620.739990  ...  0.000000         NaN\n",
              "1996-01-03   620.729980   623.250000  ...  0.000000  100.000000\n",
              "1996-01-04   621.320007   624.489990  ...  0.002150   12.803224\n",
              "1996-01-05   617.700012   617.700012  ...  0.001991   10.109034\n",
              "1996-01-08   616.710022   618.460022  ...  0.001505   36.426593\n",
              "...                 ...          ...  ...       ...         ...\n",
              "2021-04-26  4185.029785  4194.189941  ...  0.002150   66.489310\n",
              "2021-04-27  4188.250000  4193.350098  ...  0.001956   66.242731\n",
              "2021-04-28  4185.140137  4201.529785  ...  0.001845   65.185864\n",
              "2021-04-29  4206.140137  4218.779785  ...  0.001661   69.509046\n",
              "2021-04-30  4198.100098  4198.100098  ...  0.002214   60.611923\n",
              "\n",
              "[6377 rows x 13 columns]"
            ]
          },
          "metadata": {
            "tags": []
          },
          "execution_count": 12
        }
      ]
    },
    {
      "cell_type": "code",
      "metadata": {
        "id": "YFI0XKEIw9Qg"
      },
      "source": [
        "data.dropna(inplace=True)"
      ],
      "execution_count": 13,
      "outputs": []
    },
    {
      "cell_type": "markdown",
      "metadata": {
        "id": "fy3eDF7X_-V7"
      },
      "source": [
        "## Applying the strategy"
      ]
    },
    {
      "cell_type": "code",
      "metadata": {
        "id": "3wNRno9QxfHr"
      },
      "source": [
        "data.loc[(data['Adj Close'] > data['200MA']) & (data['RSI10'] < 30), 'Buy'] = 'Yes'\n",
        "data.loc[(data['Adj Close'] < data['200MA']) | (data['RSI10'] > 30), 'Buy'] = 'No'\n"
      ],
      "execution_count": 15,
      "outputs": []
    },
    {
      "cell_type": "code",
      "metadata": {
        "id": "-2xAjJJZyxJV"
      },
      "source": [
        "# Making a list of profits and losses. Entry is profit/loss made by buyig a one unit.\n",
        "PnL = []\n",
        "for i in range(len(data)-12):\n",
        "  if 'Yes' in data['Buy'].iloc[i]:\n",
        "    for j in range(1,11):\n",
        "      if data['RSI10'].iloc[i+j]>40:\n",
        "        PnL.append(data['Open'].iloc[i+j+1]-data['Open'].iloc[i+1])\n",
        "        break\n",
        "      elif j == 10:\n",
        "        PnL.append(data['Open'].iloc[i+j+1]-data['Open'].iloc[i+1])\n",
        "      else:\n",
        "        pass\n",
        "  else:\n",
        "    pass"
      ],
      "execution_count": 16,
      "outputs": []
    },
    {
      "cell_type": "code",
      "metadata": {
        "colab": {
          "base_uri": "https://localhost:8080/"
        },
        "id": "OR8flU3h00nZ",
        "outputId": "10905e2e-020d-4127-b0a9-69aba52139d7"
      },
      "source": [
        "wins = len([i for i in PnL if i > 0])\n",
        "wins"
      ],
      "execution_count": 17,
      "outputs": [
        {
          "output_type": "execute_result",
          "data": {
            "text/plain": [
              "70"
            ]
          },
          "metadata": {
            "tags": []
          },
          "execution_count": 17
        }
      ]
    },
    {
      "cell_type": "code",
      "metadata": {
        "colab": {
          "base_uri": "https://localhost:8080/"
        },
        "id": "JURJI-VF1HLR",
        "outputId": "b1d60fcb-5d19-4746-e895-af4959344666"
      },
      "source": [
        "trades = len(PnL)\n",
        "trades"
      ],
      "execution_count": 18,
      "outputs": [
        {
          "output_type": "execute_result",
          "data": {
            "text/plain": [
              "73"
            ]
          },
          "metadata": {
            "tags": []
          },
          "execution_count": 18
        }
      ]
    },
    {
      "cell_type": "code",
      "metadata": {
        "colab": {
          "base_uri": "https://localhost:8080/"
        },
        "id": "YUlhckun1OtY",
        "outputId": "6ab4dd9b-3096-4433-ee90-66738f872a86"
      },
      "source": [
        "print(\"The winning rate is: \", wins/trades*100, \"%\")"
      ],
      "execution_count": 21,
      "outputs": [
        {
          "output_type": "stream",
          "text": [
            "The winning rate is:  95.8904109589041 %\n"
          ],
          "name": "stdout"
        }
      ]
    },
    {
      "cell_type": "code",
      "metadata": {
        "colab": {
          "base_uri": "https://localhost:8080/"
        },
        "id": "vYKBxtBlBvbE",
        "outputId": "8ebb6de3-0242-401d-8e29-506f47135bf6"
      },
      "source": [
        "print(\"The total profit: \", sum(PnL), 'USD')"
      ],
      "execution_count": 23,
      "outputs": [
        {
          "output_type": "stream",
          "text": [
            "The total profit:  1467.268798828125 USD\n"
          ],
          "name": "stdout"
        }
      ]
    },
    {
      "cell_type": "markdown",
      "metadata": {
        "id": "ZnmGHOs9BETY"
      },
      "source": [
        "So the winning rate is very high (wow!) but the are some drawbacks in this strategy. \n",
        "\n",
        "1.   During about 25 year period there is only 73 trades total. So these occur quite rarely.\n",
        "2.   Buy buying one unit the gain is quite small for 25 year, just about 2500 USD. Buy and hold would have given bigger profits.\n",
        "3.   To better use this strategy, the position size should be somehow decided to be reasonable and there should be somekind of stop loss.\n"
      ]
    }
  ]
}