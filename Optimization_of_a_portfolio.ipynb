{
 "cells": [
  {
   "cell_type": "markdown",
   "metadata": {},
   "source": [
    "# Portfolio optimization\n",
    "We  consider a portfolio of stocks and find the best portfoio in that sense that it maximizes the Sharpe Ratio. \n"
   ]
  },
  {
   "cell_type": "markdown",
   "metadata": {},
   "source": [
    "### Importing needed libraries."
   ]
  },
  {
   "cell_type": "code",
   "execution_count": 1,
   "metadata": {},
   "outputs": [],
   "source": [
    "import numpy as np\n",
    "import pandas as pd\n",
    "import pandas_datareader.data as web\n",
    "import matplotlib.pyplot as plt\n",
    "# matplotlib inline"
   ]
  },
  {
   "cell_type": "markdown",
   "metadata": {},
   "source": [
    "## Getting stock data\n",
    "I have chosen five stocks from Nasdaq Helsinki for this portfolio. The stocks are\n",
    "* Neste Oyj \n",
    "* Sampo Oyj\n",
    "* Sanoma Corporation\n",
    "* Kemira Oyj\n",
    "* Nokia Corporation\n",
    "\n",
    "The stock data I take from Yahoo and I look the stocks adjusted closing prices, because the interest in portfolio optimization lies on returns from stocks not on actual price data. "
   ]
  },
  {
   "cell_type": "code",
   "execution_count": 6,
   "metadata": {},
   "outputs": [],
   "source": [
    "tickers = ['NESTE.HE', 'SAMPO.HE', 'SAA1V.HE', 'KEMIRA.HE', 'NOKIA.HE']"
   ]
  },
  {
   "cell_type": "code",
   "execution_count": 8,
   "metadata": {
    "scrolled": true
   },
   "outputs": [
    {
     "data": {
      "text/html": [
       "<div>\n",
       "<style scoped>\n",
       "    .dataframe tbody tr th:only-of-type {\n",
       "        vertical-align: middle;\n",
       "    }\n",
       "\n",
       "    .dataframe tbody tr th {\n",
       "        vertical-align: top;\n",
       "    }\n",
       "\n",
       "    .dataframe thead th {\n",
       "        text-align: right;\n",
       "    }\n",
       "</style>\n",
       "<table border=\"1\" class=\"dataframe\">\n",
       "  <thead>\n",
       "    <tr style=\"text-align: right;\">\n",
       "      <th></th>\n",
       "      <th>Neste</th>\n",
       "      <th>Sampo</th>\n",
       "      <th>Sanoma</th>\n",
       "      <th>Kemira</th>\n",
       "      <th>Nokia</th>\n",
       "    </tr>\n",
       "    <tr>\n",
       "      <th>Date</th>\n",
       "      <th></th>\n",
       "      <th></th>\n",
       "      <th></th>\n",
       "      <th></th>\n",
       "      <th></th>\n",
       "    </tr>\n",
       "  </thead>\n",
       "  <tbody>\n",
       "    <tr>\n",
       "      <th>2020-08-28</th>\n",
       "      <td>44.799999</td>\n",
       "      <td>34.220001</td>\n",
       "      <td>10.76</td>\n",
       "      <td>11.63</td>\n",
       "      <td>4.1730</td>\n",
       "    </tr>\n",
       "    <tr>\n",
       "      <th>2020-08-31</th>\n",
       "      <td>44.810001</td>\n",
       "      <td>33.730000</td>\n",
       "      <td>10.86</td>\n",
       "      <td>11.58</td>\n",
       "      <td>4.0725</td>\n",
       "    </tr>\n",
       "    <tr>\n",
       "      <th>2020-09-01</th>\n",
       "      <td>45.099998</td>\n",
       "      <td>33.889999</td>\n",
       "      <td>10.74</td>\n",
       "      <td>11.61</td>\n",
       "      <td>3.9890</td>\n",
       "    </tr>\n",
       "    <tr>\n",
       "      <th>2020-09-02</th>\n",
       "      <td>46.320000</td>\n",
       "      <td>33.730000</td>\n",
       "      <td>10.84</td>\n",
       "      <td>11.59</td>\n",
       "      <td>3.9960</td>\n",
       "    </tr>\n",
       "    <tr>\n",
       "      <th>2020-09-03</th>\n",
       "      <td>45.439999</td>\n",
       "      <td>33.689999</td>\n",
       "      <td>10.86</td>\n",
       "      <td>11.40</td>\n",
       "      <td>3.8075</td>\n",
       "    </tr>\n",
       "  </tbody>\n",
       "</table>\n",
       "</div>"
      ],
      "text/plain": [
       "                Neste      Sampo  Sanoma  Kemira   Nokia\n",
       "Date                                                    \n",
       "2020-08-28  44.799999  34.220001   10.76   11.63  4.1730\n",
       "2020-08-31  44.810001  33.730000   10.86   11.58  4.0725\n",
       "2020-09-01  45.099998  33.889999   10.74   11.61  3.9890\n",
       "2020-09-02  46.320000  33.730000   10.84   11.59  3.9960\n",
       "2020-09-03  45.439999  33.689999   10.86   11.40  3.8075"
      ]
     },
     "execution_count": 8,
     "metadata": {},
     "output_type": "execute_result"
    }
   ],
   "source": [
    "stocks = pd.DataFrame()\n",
    "\n",
    "for t in tickers:\n",
    "    stocks[t] = web.DataReader(t, data_source='yahoo', start = '2010-1-1')['Adj Close']\n",
    "    \n",
    "stocks.columns = ['Neste', 'Sampo', 'Sanoma', 'Kemira', 'Nokia']\n",
    "stocks.tail()"
   ]
  },
  {
   "cell_type": "code",
   "execution_count": 9,
   "metadata": {},
   "outputs": [
    {
     "name": "stdout",
     "output_type": "stream",
     "text": [
      "<class 'pandas.core.frame.DataFrame'>\n",
      "DatetimeIndex: 2680 entries, 2010-01-04 to 2020-09-03\n",
      "Data columns (total 5 columns):\n",
      " #   Column  Non-Null Count  Dtype  \n",
      "---  ------  --------------  -----  \n",
      " 0   Neste   2680 non-null   float64\n",
      " 1   Sampo   2680 non-null   float64\n",
      " 2   Sanoma  2680 non-null   float64\n",
      " 3   Kemira  2680 non-null   float64\n",
      " 4   Nokia   2680 non-null   float64\n",
      "dtypes: float64(5)\n",
      "memory usage: 125.6 KB\n"
     ]
    }
   ],
   "source": [
    "stocks.info() # checking data"
   ]
  },
  {
   "cell_type": "markdown",
   "metadata": {},
   "source": [
    "#### Let's plot normalized prices of these stocks so we can see how they have perfomed compared to each other."
   ]
  },
  {
   "cell_type": "code",
   "execution_count": 10,
   "metadata": {},
   "outputs": [
    {
     "data": {
      "image/png": "[encoded data removed]",
      "text/plain": [
       "<Figure size 864x576 with 1 Axes>"
      ]
     },
     "metadata": {
      "needs_background": "light"
     },
     "output_type": "display_data"
    }
   ],
   "source": [
    "normalized_stocks = stocks/stocks.iloc[0]\n",
    "normalized_stocks.plot(figsize =(12,8));"
   ]
  },
  {
   "cell_type": "markdown",
   "metadata": {},
   "source": [
    "## Daily returns\n",
    "First we calculate simple daily returns. Simple daily returns are calculated with the formula\n",
    "$$r_t = \\frac{p_{t}}{p_{t-1}}-1,$$\n",
    "where $r_t$ is daily return at day $t$, $p_t$ is adjusted close at day $t$ and $p_{t-1}$ is adjusted close at day $t-1$.\n",
    "\n",
    "We use these simple returns for calculating the returns. Other choice would be log returns, but since $log(x)$ is very close to $x-1$ when $x$ is close to one, they would yield results that are so close to the simple returns that in this project it doesn't have any real effect."
   ]
  },
  {
   "cell_type": "code",
   "execution_count": 11,
   "metadata": {},
   "outputs": [
    {
     "data": {
      "text/html": [
       "<div>\n",
       "<style scoped>\n",
       "    .dataframe tbody tr th:only-of-type {\n",
       "        vertical-align: middle;\n",
       "    }\n",
       "\n",
       "    .dataframe tbody tr th {\n",
       "        vertical-align: top;\n",
       "    }\n",
       "\n",
       "    .dataframe thead th {\n",
       "        text-align: right;\n",
       "    }\n",
       "</style>\n",
       "<table border=\"1\" class=\"dataframe\">\n",
       "  <thead>\n",
       "    <tr style=\"text-align: right;\">\n",
       "      <th></th>\n",
       "      <th>Neste</th>\n",
       "      <th>Sampo</th>\n",
       "      <th>Sanoma</th>\n",
       "      <th>Kemira</th>\n",
       "      <th>Nokia</th>\n",
       "    </tr>\n",
       "    <tr>\n",
       "      <th>Date</th>\n",
       "      <th></th>\n",
       "      <th></th>\n",
       "      <th></th>\n",
       "      <th></th>\n",
       "      <th></th>\n",
       "    </tr>\n",
       "  </thead>\n",
       "  <tbody>\n",
       "    <tr>\n",
       "      <th>2010-01-04</th>\n",
       "      <td>NaN</td>\n",
       "      <td>NaN</td>\n",
       "      <td>NaN</td>\n",
       "      <td>NaN</td>\n",
       "      <td>NaN</td>\n",
       "    </tr>\n",
       "    <tr>\n",
       "      <th>2010-01-05</th>\n",
       "      <td>0.011811</td>\n",
       "      <td>-0.001752</td>\n",
       "      <td>0.002448</td>\n",
       "      <td>0.002830</td>\n",
       "      <td>-0.003776</td>\n",
       "    </tr>\n",
       "    <tr>\n",
       "      <th>2010-01-07</th>\n",
       "      <td>0.016342</td>\n",
       "      <td>0.023364</td>\n",
       "      <td>0.003663</td>\n",
       "      <td>0.006585</td>\n",
       "      <td>0.005956</td>\n",
       "    </tr>\n",
       "    <tr>\n",
       "      <th>2010-01-08</th>\n",
       "      <td>0.017612</td>\n",
       "      <td>0.015983</td>\n",
       "      <td>-0.006691</td>\n",
       "      <td>0.022431</td>\n",
       "      <td>-0.004306</td>\n",
       "    </tr>\n",
       "    <tr>\n",
       "      <th>2010-01-11</th>\n",
       "      <td>-0.007524</td>\n",
       "      <td>-0.014044</td>\n",
       "      <td>-0.002449</td>\n",
       "      <td>-0.018282</td>\n",
       "      <td>-0.015135</td>\n",
       "    </tr>\n",
       "  </tbody>\n",
       "</table>\n",
       "</div>"
      ],
      "text/plain": [
       "               Neste     Sampo    Sanoma    Kemira     Nokia\n",
       "Date                                                        \n",
       "2010-01-04       NaN       NaN       NaN       NaN       NaN\n",
       "2010-01-05  0.011811 -0.001752  0.002448  0.002830 -0.003776\n",
       "2010-01-07  0.016342  0.023364  0.003663  0.006585  0.005956\n",
       "2010-01-08  0.017612  0.015983 -0.006691  0.022431 -0.004306\n",
       "2010-01-11 -0.007524 -0.014044 -0.002449 -0.018282 -0.015135"
      ]
     },
     "execution_count": 11,
     "metadata": {},
     "output_type": "execute_result"
    }
   ],
   "source": [
    "simple_daily_returns = stocks/stocks.shift(1) - 1\n",
    "\n",
    "simple_daily_returns.head()"
   ]
  },
  {
   "cell_type": "code",
   "execution_count": 12,
   "metadata": {
    "scrolled": false
   },
   "outputs": [
    {
     "data": {
      "image/png": "[encoded data removed]",
      "text/plain": [
       "<Figure size 864x576 with 6 Axes>"
      ]
     },
     "metadata": {
      "needs_background": "light"
     },
     "output_type": "display_data"
    }
   ],
   "source": [
    "simple_daily_returns.hist(bins=100, figsize = (12,8))\n",
    "plt.tight_layout();"
   ]
  },
  {
   "cell_type": "code",
   "execution_count": 16,
   "metadata": {},
   "outputs": [
    {
     "data": {
      "text/html": [
       "<div>\n",
       "<style scoped>\n",
       "    .dataframe tbody tr th:only-of-type {\n",
       "        vertical-align: middle;\n",
       "    }\n",
       "\n",
       "    .dataframe tbody tr th {\n",
       "        vertical-align: top;\n",
       "    }\n",
       "\n",
       "    .dataframe thead th {\n",
       "        text-align: right;\n",
       "    }\n",
       "</style>\n",
       "<table border=\"1\" class=\"dataframe\">\n",
       "  <thead>\n",
       "    <tr style=\"text-align: right;\">\n",
       "      <th></th>\n",
       "      <th>count</th>\n",
       "      <th>mean</th>\n",
       "      <th>std</th>\n",
       "      <th>min</th>\n",
       "      <th>25%</th>\n",
       "      <th>50%</th>\n",
       "      <th>75%</th>\n",
       "      <th>max</th>\n",
       "    </tr>\n",
       "  </thead>\n",
       "  <tbody>\n",
       "    <tr>\n",
       "      <th>Neste</th>\n",
       "      <td>2679.0</td>\n",
       "      <td>0.001461</td>\n",
       "      <td>0.022456</td>\n",
       "      <td>-0.119686</td>\n",
       "      <td>-0.009569</td>\n",
       "      <td>0.000917</td>\n",
       "      <td>0.011993</td>\n",
       "      <td>0.236915</td>\n",
       "    </tr>\n",
       "    <tr>\n",
       "      <th>Sampo</th>\n",
       "      <td>2679.0</td>\n",
       "      <td>0.000616</td>\n",
       "      <td>0.014893</td>\n",
       "      <td>-0.149569</td>\n",
       "      <td>-0.006726</td>\n",
       "      <td>0.000549</td>\n",
       "      <td>0.007709</td>\n",
       "      <td>0.160653</td>\n",
       "    </tr>\n",
       "    <tr>\n",
       "      <th>Sanoma</th>\n",
       "      <td>2679.0</td>\n",
       "      <td>0.000279</td>\n",
       "      <td>0.022179</td>\n",
       "      <td>-0.163517</td>\n",
       "      <td>-0.010778</td>\n",
       "      <td>0.000000</td>\n",
       "      <td>0.011265</td>\n",
       "      <td>0.214222</td>\n",
       "    </tr>\n",
       "    <tr>\n",
       "      <th>Kemira</th>\n",
       "      <td>2679.0</td>\n",
       "      <td>0.000555</td>\n",
       "      <td>0.018921</td>\n",
       "      <td>-0.134982</td>\n",
       "      <td>-0.008321</td>\n",
       "      <td>0.000581</td>\n",
       "      <td>0.009880</td>\n",
       "      <td>0.142236</td>\n",
       "    </tr>\n",
       "    <tr>\n",
       "      <th>Nokia</th>\n",
       "      <td>2679.0</td>\n",
       "      <td>0.000140</td>\n",
       "      <td>0.025594</td>\n",
       "      <td>-0.233468</td>\n",
       "      <td>-0.011340</td>\n",
       "      <td>0.000510</td>\n",
       "      <td>0.011352</td>\n",
       "      <td>0.339406</td>\n",
       "    </tr>\n",
       "  </tbody>\n",
       "</table>\n",
       "</div>"
      ],
      "text/plain": [
       "         count      mean       std       min       25%       50%       75%  \\\n",
       "Neste   2679.0  0.001461  0.022456 -0.119686 -0.009569  0.000917  0.011993   \n",
       "Sampo   2679.0  0.000616  0.014893 -0.149569 -0.006726  0.000549  0.007709   \n",
       "Sanoma  2679.0  0.000279  0.022179 -0.163517 -0.010778  0.000000  0.011265   \n",
       "Kemira  2679.0  0.000555  0.018921 -0.134982 -0.008321  0.000581  0.009880   \n",
       "Nokia   2679.0  0.000140  0.025594 -0.233468 -0.011340  0.000510  0.011352   \n",
       "\n",
       "             max  \n",
       "Neste   0.236915  \n",
       "Sampo   0.160653  \n",
       "Sanoma  0.214222  \n",
       "Kemira  0.142236  \n",
       "Nokia   0.339406  "
      ]
     },
     "execution_count": 16,
     "metadata": {},
     "output_type": "execute_result"
    }
   ],
   "source": [
    "simple_daily_returns.describe().transpose()"
   ]
  },
  {
   "cell_type": "markdown",
   "metadata": {},
   "source": [
    "#### Let's make briefly comparison to log returns."
   ]
  },
  {
   "cell_type": "code",
   "execution_count": 17,
   "metadata": {},
   "outputs": [],
   "source": [
    "log_returns = np.log(stocks/stocks.shift(1))"
   ]
  },
  {
   "cell_type": "code",
   "execution_count": 18,
   "metadata": {},
   "outputs": [
    {
     "data": {
      "text/html": [
       "<div>\n",
       "<style scoped>\n",
       "    .dataframe tbody tr th:only-of-type {\n",
       "        vertical-align: middle;\n",
       "    }\n",
       "\n",
       "    .dataframe tbody tr th {\n",
       "        vertical-align: top;\n",
       "    }\n",
       "\n",
       "    .dataframe thead th {\n",
       "        text-align: right;\n",
       "    }\n",
       "</style>\n",
       "<table border=\"1\" class=\"dataframe\">\n",
       "  <thead>\n",
       "    <tr style=\"text-align: right;\">\n",
       "      <th></th>\n",
       "      <th>count</th>\n",
       "      <th>mean</th>\n",
       "      <th>std</th>\n",
       "      <th>min</th>\n",
       "      <th>25%</th>\n",
       "      <th>50%</th>\n",
       "      <th>75%</th>\n",
       "      <th>max</th>\n",
       "    </tr>\n",
       "  </thead>\n",
       "  <tbody>\n",
       "    <tr>\n",
       "      <th>Neste</th>\n",
       "      <td>2679.0</td>\n",
       "      <td>0.001211</td>\n",
       "      <td>0.022270</td>\n",
       "      <td>-0.127476</td>\n",
       "      <td>-0.009615</td>\n",
       "      <td>0.000916</td>\n",
       "      <td>0.011921</td>\n",
       "      <td>0.212620</td>\n",
       "    </tr>\n",
       "    <tr>\n",
       "      <th>Sampo</th>\n",
       "      <td>2679.0</td>\n",
       "      <td>0.000505</td>\n",
       "      <td>0.014891</td>\n",
       "      <td>-0.162012</td>\n",
       "      <td>-0.006748</td>\n",
       "      <td>0.000549</td>\n",
       "      <td>0.007679</td>\n",
       "      <td>0.148983</td>\n",
       "    </tr>\n",
       "    <tr>\n",
       "      <th>Sanoma</th>\n",
       "      <td>2679.0</td>\n",
       "      <td>0.000034</td>\n",
       "      <td>0.022143</td>\n",
       "      <td>-0.178549</td>\n",
       "      <td>-0.010837</td>\n",
       "      <td>0.000000</td>\n",
       "      <td>0.011202</td>\n",
       "      <td>0.194103</td>\n",
       "    </tr>\n",
       "    <tr>\n",
       "      <th>Kemira</th>\n",
       "      <td>2679.0</td>\n",
       "      <td>0.000376</td>\n",
       "      <td>0.018914</td>\n",
       "      <td>-0.145005</td>\n",
       "      <td>-0.008356</td>\n",
       "      <td>0.000580</td>\n",
       "      <td>0.009831</td>\n",
       "      <td>0.132988</td>\n",
       "    </tr>\n",
       "    <tr>\n",
       "      <th>Nokia</th>\n",
       "      <td>2679.0</td>\n",
       "      <td>-0.000190</td>\n",
       "      <td>0.025728</td>\n",
       "      <td>-0.265878</td>\n",
       "      <td>-0.011405</td>\n",
       "      <td>0.000510</td>\n",
       "      <td>0.011288</td>\n",
       "      <td>0.292226</td>\n",
       "    </tr>\n",
       "  </tbody>\n",
       "</table>\n",
       "</div>"
      ],
      "text/plain": [
       "         count      mean       std       min       25%       50%       75%  \\\n",
       "Neste   2679.0  0.001211  0.022270 -0.127476 -0.009615  0.000916  0.011921   \n",
       "Sampo   2679.0  0.000505  0.014891 -0.162012 -0.006748  0.000549  0.007679   \n",
       "Sanoma  2679.0  0.000034  0.022143 -0.178549 -0.010837  0.000000  0.011202   \n",
       "Kemira  2679.0  0.000376  0.018914 -0.145005 -0.008356  0.000580  0.009831   \n",
       "Nokia   2679.0 -0.000190  0.025728 -0.265878 -0.011405  0.000510  0.011288   \n",
       "\n",
       "             max  \n",
       "Neste   0.212620  \n",
       "Sampo   0.148983  \n",
       "Sanoma  0.194103  \n",
       "Kemira  0.132988  \n",
       "Nokia   0.292226  "
      ]
     },
     "execution_count": 18,
     "metadata": {},
     "output_type": "execute_result"
    }
   ],
   "source": [
    "log_returns.describe().transpose()"
   ]
  },
  {
   "cell_type": "markdown",
   "metadata": {},
   "source": [
    "Log returns yield smaller means due to the fact that since the maxs are smaller and mins are smaller (it like shifts the returns). I really would use simple returns for these stocks because I think they would yield to more realistic results especially since we count together the whole portfolios return and not just look how a single stock performs by itself."
   ]
  },
  {
   "cell_type": "markdown",
   "metadata": {},
   "source": [
    "## Making portfolio\n",
    "We use Sharpe ratio to compare between portfolios. Sharpe ratio is calculated with the formula\n",
    "$$\n",
    "SR = \\frac{R_p -R_f}{\\sigma_p}, \n",
    "$$\n",
    "where $SR$ stands for Sharpe Ratio, $R_p$ is portfolios return, $R_f$ is risk free return and $\\sigma_p$ is the standard diviation of protfolios return and it is also called the volatility of the portfolio. A portfolio that has a bigger Sharpe Ratio is considered being better.\n"
   ]
  },
  {
   "cell_type": "code",
   "execution_count": 22,
   "metadata": {},
   "outputs": [
    {
     "data": {
      "text/html": [
       "<div>\n",
       "<style scoped>\n",
       "    .dataframe tbody tr th:only-of-type {\n",
       "        vertical-align: middle;\n",
       "    }\n",
       "\n",
       "    .dataframe tbody tr th {\n",
       "        vertical-align: top;\n",
       "    }\n",
       "\n",
       "    .dataframe thead th {\n",
       "        text-align: right;\n",
       "    }\n",
       "</style>\n",
       "<table border=\"1\" class=\"dataframe\">\n",
       "  <thead>\n",
       "    <tr style=\"text-align: right;\">\n",
       "      <th></th>\n",
       "      <th>Neste</th>\n",
       "      <th>Sampo</th>\n",
       "      <th>Sanoma</th>\n",
       "      <th>Kemira</th>\n",
       "      <th>Nokia</th>\n",
       "    </tr>\n",
       "  </thead>\n",
       "  <tbody>\n",
       "    <tr>\n",
       "      <th>Neste</th>\n",
       "      <td>1.000000</td>\n",
       "      <td>0.440352</td>\n",
       "      <td>0.289341</td>\n",
       "      <td>0.428313</td>\n",
       "      <td>0.273591</td>\n",
       "    </tr>\n",
       "    <tr>\n",
       "      <th>Sampo</th>\n",
       "      <td>0.440352</td>\n",
       "      <td>1.000000</td>\n",
       "      <td>0.371894</td>\n",
       "      <td>0.509269</td>\n",
       "      <td>0.386416</td>\n",
       "    </tr>\n",
       "    <tr>\n",
       "      <th>Sanoma</th>\n",
       "      <td>0.289341</td>\n",
       "      <td>0.371894</td>\n",
       "      <td>1.000000</td>\n",
       "      <td>0.376549</td>\n",
       "      <td>0.262748</td>\n",
       "    </tr>\n",
       "    <tr>\n",
       "      <th>Kemira</th>\n",
       "      <td>0.428313</td>\n",
       "      <td>0.509269</td>\n",
       "      <td>0.376549</td>\n",
       "      <td>1.000000</td>\n",
       "      <td>0.315725</td>\n",
       "    </tr>\n",
       "    <tr>\n",
       "      <th>Nokia</th>\n",
       "      <td>0.273591</td>\n",
       "      <td>0.386416</td>\n",
       "      <td>0.262748</td>\n",
       "      <td>0.315725</td>\n",
       "      <td>1.000000</td>\n",
       "    </tr>\n",
       "  </tbody>\n",
       "</table>\n",
       "</div>"
      ],
      "text/plain": [
       "           Neste     Sampo    Sanoma    Kemira     Nokia\n",
       "Neste   1.000000  0.440352  0.289341  0.428313  0.273591\n",
       "Sampo   0.440352  1.000000  0.371894  0.509269  0.386416\n",
       "Sanoma  0.289341  0.371894  1.000000  0.376549  0.262748\n",
       "Kemira  0.428313  0.509269  0.376549  1.000000  0.315725\n",
       "Nokia   0.273591  0.386416  0.262748  0.315725  1.000000"
      ]
     },
     "execution_count": 22,
     "metadata": {},
     "output_type": "execute_result"
    }
   ],
   "source": [
    "simple_daily_returns.corr()"
   ]
  },
  {
   "cell_type": "markdown",
   "metadata": {},
   "source": [
    "Correlation between the returns of chosen stocks are moderate so that they are in that sense a good pick for the sake of the diversification of the portfolio."
   ]
  },
  {
   "cell_type": "markdown",
   "metadata": {},
   "source": [
    "### Evenly weighted portfolio\n",
    "\n",
    "First let's make evenly weighted portfolio and see how it performs i.e.\n",
    "* Neste Oyj  20 % \n",
    "* Sampo Oyj  20 %\n",
    "* Sanoma Corporation  20 %\n",
    "* Kemira Oyj  20 %\n",
    "* Nokia Corporation  20 %"
   ]
  },
  {
   "cell_type": "code",
   "execution_count": 24,
   "metadata": {},
   "outputs": [],
   "source": [
    "weights = np.array([.2,.2,.2,.2,.2])"
   ]
  },
  {
   "cell_type": "markdown",
   "metadata": {},
   "source": [
    "##### Annual return, volatility and Sharpe ratio"
   ]
  },
  {
   "cell_type": "code",
   "execution_count": 29,
   "metadata": {},
   "outputs": [
    {
     "name": "stdout",
     "output_type": "stream",
     "text": [
      "Evenly weighted portfolio:\n",
      "  Annual return: 15.26 %\n",
      "  Annual volatility: 22.89 %\n",
      "  Sharpe ratio: 0.6665\n"
     ]
    }
   ],
   "source": [
    "# Here we approximate annual values from daily mean values multipling with 250, amount of business days in a year.\n",
    "ret_p = np.sum(simple_daily_returns.mean()* weights)*250 \n",
    "vol_p = (np.dot(weights.T,np.dot((simple_daily_returns.cov()*250),weights)))**0.5 # We use standard deviation as volatility.\n",
    "sr = ret_p/vol_p  # Right now the interest rates are at zero so we use 0 as risk free return.\n",
    "\n",
    "print(\"Evenly weighted portfolio:\")\n",
    "print(f\"  Annual return: {round(ret_p*100,2)} %\")\n",
    "print(f\"  Annual volatility: {round(vol_p*100,2)} %\")\n",
    "print(f\"  Sharpe ratio: {round(sr,4)}\")"
   ]
  },
  {
   "cell_type": "markdown",
   "metadata": {},
   "source": [
    "Since volatility for this portfolio is greater than return it is not so good portfolio.\n",
    "\n",
    "Here is good to remember that we do calculations from values from past so that is how in average the evenly weighted portfolio performed in last 10 years period. The past doesn't necessary mean that the future would go same way."
   ]
  },
  {
   "cell_type": "markdown",
   "metadata": {},
   "source": [
    "## Optimization of portfolio\n",
    "* Use scipy.optimize package to opitmize portfolio"
   ]
  },
  {
   "cell_type": "code",
   "execution_count": null,
   "metadata": {},
   "outputs": [],
   "source": []
  }
 ],
 "metadata": {
  "kernelspec": {
   "display_name": "Python 3",
   "language": "python",
   "name": "python3"
  },
  "language_info": {
   "codemirror_mode": {
    "name": "ipython",
    "version": 3
   },
   "file_extension": ".py",
   "mimetype": "text/x-python",
   "name": "python",
   "nbconvert_exporter": "python",
   "pygments_lexer": "ipython3",
   "version": "3.8.3"
  }
 },
 "nbformat": 4,
 "nbformat_minor": 4
}
