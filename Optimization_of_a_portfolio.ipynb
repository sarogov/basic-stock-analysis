{
 "cells": [
  {
   "cell_type": "markdown",
   "metadata": {},
   "source": [
    "# Portfolio optimization\n"
   ]
  },
  {
   "cell_type": "markdown",
   "metadata": {},
   "source": [
    "### Importing needed libraries."
   ]
  },
  {
   "cell_type": "code",
   "execution_count": 1,
   "metadata": {},
   "outputs": [],
   "source": [
    "import numpy as np\n",
    "import pandas as pd\n",
    "import pandas_datareader.data as web\n",
    "import matplotlib.pyplot as plt\n",
    "# matplotlib inline"
   ]
  },
  {
   "cell_type": "markdown",
   "metadata": {},
   "source": [
    "### Getting stock data\n",
    "I have chosen five stocks from Nasdaq Helsinki for this portfolio. The stocks are\n",
    "* Neste Oyj \n",
    "* Sampo Oyj\n",
    "* Kesko Corporation B\n",
    "* Kemira Oyj\n",
    "* Nokia Corporation\n",
    "\n",
    "The stock data I take from Yahoo and I look the stocks adjusted closing prices, because the interest in portfolio optimization lies on returns from stocks not on actual price data. "
   ]
  },
  {
   "cell_type": "code",
   "execution_count": 2,
   "metadata": {},
   "outputs": [],
   "source": [
    "tickers = {'NESTE.HE', 'SAMPO.HE', 'KESKOB.HE', 'KEMIRA.HE', 'NOKIA.HE'}"
   ]
  },
  {
   "cell_type": "code",
   "execution_count": 3,
   "metadata": {},
   "outputs": [
    {
     "data": {
      "text/html": [
       "<div>\n",
       "<style scoped>\n",
       "    .dataframe tbody tr th:only-of-type {\n",
       "        vertical-align: middle;\n",
       "    }\n",
       "\n",
       "    .dataframe tbody tr th {\n",
       "        vertical-align: top;\n",
       "    }\n",
       "\n",
       "    .dataframe thead th {\n",
       "        text-align: right;\n",
       "    }\n",
       "</style>\n",
       "<table border=\"1\" class=\"dataframe\">\n",
       "  <thead>\n",
       "    <tr style=\"text-align: right;\">\n",
       "      <th></th>\n",
       "      <th>NESTE.HE</th>\n",
       "      <th>KEMIRA.HE</th>\n",
       "      <th>SAMPO.HE</th>\n",
       "      <th>NOKIA.HE</th>\n",
       "      <th>KESKOB.HE</th>\n",
       "    </tr>\n",
       "    <tr>\n",
       "      <th>Date</th>\n",
       "      <th></th>\n",
       "      <th></th>\n",
       "      <th></th>\n",
       "      <th></th>\n",
       "      <th></th>\n",
       "    </tr>\n",
       "  </thead>\n",
       "  <tbody>\n",
       "    <tr>\n",
       "      <th>2010-01-04</th>\n",
       "      <td>1.772487</td>\n",
       "      <td>4.159348</td>\n",
       "      <td>8.699982</td>\n",
       "      <td>6.327983</td>\n",
       "      <td>1.128160</td>\n",
       "    </tr>\n",
       "    <tr>\n",
       "      <th>2010-01-05</th>\n",
       "      <td>1.793422</td>\n",
       "      <td>4.171120</td>\n",
       "      <td>8.684741</td>\n",
       "      <td>6.304090</td>\n",
       "      <td>1.123768</td>\n",
       "    </tr>\n",
       "    <tr>\n",
       "      <th>2010-01-07</th>\n",
       "      <td>1.822731</td>\n",
       "      <td>4.198587</td>\n",
       "      <td>8.887655</td>\n",
       "      <td>6.341636</td>\n",
       "      <td>1.130599</td>\n",
       "    </tr>\n",
       "    <tr>\n",
       "      <th>2010-01-08</th>\n",
       "      <td>1.854833</td>\n",
       "      <td>4.292766</td>\n",
       "      <td>9.029706</td>\n",
       "      <td>6.314330</td>\n",
       "      <td>1.131087</td>\n",
       "    </tr>\n",
       "    <tr>\n",
       "      <th>2010-01-11</th>\n",
       "      <td>1.840877</td>\n",
       "      <td>4.214287</td>\n",
       "      <td>8.902894</td>\n",
       "      <td>6.218761</td>\n",
       "      <td>1.132551</td>\n",
       "    </tr>\n",
       "  </tbody>\n",
       "</table>\n",
       "</div>"
      ],
      "text/plain": [
       "            NESTE.HE  KEMIRA.HE  SAMPO.HE  NOKIA.HE  KESKOB.HE\n",
       "Date                                                          \n",
       "2010-01-04  1.772487   4.159348  8.699982  6.327983   1.128160\n",
       "2010-01-05  1.793422   4.171120  8.684741  6.304090   1.123768\n",
       "2010-01-07  1.822731   4.198587  8.887655  6.341636   1.130599\n",
       "2010-01-08  1.854833   4.292766  9.029706  6.314330   1.131087\n",
       "2010-01-11  1.840877   4.214287  8.902894  6.218761   1.132551"
      ]
     },
     "execution_count": 3,
     "metadata": {},
     "output_type": "execute_result"
    }
   ],
   "source": [
    "stocks = pd.DataFrame()\n",
    "\n",
    "for t in tickers:\n",
    "    stocks[t] = web.DataReader(t, data_source='yahoo', start = '2010-1-1')['Adj Close']\n",
    "    \n",
    "stocks.head()"
   ]
  },
  {
   "cell_type": "code",
   "execution_count": 4,
   "metadata": {},
   "outputs": [
    {
     "name": "stdout",
     "output_type": "stream",
     "text": [
      "<class 'pandas.core.frame.DataFrame'>\n",
      "DatetimeIndex: 2678 entries, 2010-01-04 to 2020-09-01\n",
      "Data columns (total 5 columns):\n",
      " #   Column     Non-Null Count  Dtype  \n",
      "---  ------     --------------  -----  \n",
      " 0   NESTE.HE   2678 non-null   float64\n",
      " 1   KEMIRA.HE  2678 non-null   float64\n",
      " 2   SAMPO.HE   2678 non-null   float64\n",
      " 3   NOKIA.HE   2678 non-null   float64\n",
      " 4   KESKOB.HE  2678 non-null   float64\n",
      "dtypes: float64(5)\n",
      "memory usage: 125.5 KB\n"
     ]
    }
   ],
   "source": [
    "stocks.info() # checking data"
   ]
  },
  {
   "cell_type": "markdown",
   "metadata": {},
   "source": [
    "### Daily returns\n",
    "* Calculate simple daily returns and logarithmic daily returns and compare them"
   ]
  },
  {
   "cell_type": "code",
   "execution_count": null,
   "metadata": {},
   "outputs": [],
   "source": []
  },
  {
   "cell_type": "markdown",
   "metadata": {},
   "source": [
    "### Making portfolio\n",
    "* Do calculations for simple evenly weighted portfolio\n",
    "* Explain Sharpe ratio cor coparing portfolios"
   ]
  },
  {
   "cell_type": "code",
   "execution_count": null,
   "metadata": {},
   "outputs": [],
   "source": []
  },
  {
   "cell_type": "markdown",
   "metadata": {},
   "source": [
    "### Optimazation of portfolio\n",
    "* Use scipy.optimize package to opitmize portfolio"
   ]
  },
  {
   "cell_type": "code",
   "execution_count": null,
   "metadata": {},
   "outputs": [],
   "source": []
  }
 ],
 "metadata": {
  "kernelspec": {
   "display_name": "Python 3",
   "language": "python",
   "name": "python3"
  },
  "language_info": {
   "codemirror_mode": {
    "name": "ipython",
    "version": 3
   },
   "file_extension": ".py",
   "mimetype": "text/x-python",
   "name": "python",
   "nbconvert_exporter": "python",
   "pygments_lexer": "ipython3",
   "version": "3.8.3"
  }
 },
 "nbformat": 4,
 "nbformat_minor": 4
}
